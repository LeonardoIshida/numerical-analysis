{
  "nbformat": 4,
  "nbformat_minor": 0,
  "metadata": {
    "colab": {
      "provenance": [],
      "collapsed_sections": [
        "3ivReodH74Pu",
        "mU3uRgnBeFrL",
        "EdkAhd0jHch8",
        "ta8fTQOJ99Hh",
        "EMx5ilVihxjW",
        "DmkI7nUuojb9",
        "kmi7q_fOtwbm",
        "2F-Wl3LcJdZK"
      ]
    },
    "kernelspec": {
      "name": "python3",
      "display_name": "Python 3"
    },
    "language_info": {
      "name": "python"
    }
  },
  "cells": [
    {
      "cell_type": "markdown",
      "source": [
        "# Trabalho 1\n",
        "\n",
        "## Nome:\n",
        "### Leonardo Ishida - 12873424\n",
        "### Isaac Harim Ribeiro Rosendo - 13673235"
      ],
      "metadata": {
        "id": "SY8N_O3Y6tIu"
      }
    },
    {
      "cell_type": "code",
      "source": [
        "import numpy as np\n",
        "import matplotlib.pyplot as plt\n",
        "import time"
      ],
      "metadata": {
        "id": "vMid9xS08VNz"
      },
      "execution_count": null,
      "outputs": []
    },
    {
      "cell_type": "markdown",
      "source": [
        "#Questão 1"
      ],
      "metadata": {
        "id": "t2JJYtpPJQpA"
      }
    },
    {
      "cell_type": "markdown",
      "source": [
        "Ambas as funções implementam a decomposição LU, retornando duas matrizes triangulares superiores e inferiores. De primeira análise, conseguimos distinguir o código com suas definições e nos parâmetros. Enquanto a \"func1\" possui apenas a entrada do parâmetro \"A\", a \"func2\" introduz o parâmetro adicional \"p\". Podemos rodar o codigo e analisar oque esse parâmetros podem influenciar."
      ],
      "metadata": {
        "id": "HdNat-GbJSWA"
      }
    },
    {
      "cell_type": "markdown",
      "source": [
        "#####Funções dada para teste"
      ],
      "metadata": {
        "id": "JwAdOKl6KSRQ"
      }
    },
    {
      "cell_type": "code",
      "source": [
        "\n",
        "def func1(A):\n",
        "  n = A.shape[0]\n",
        "  U = A.copy()\n",
        "  L = np.eye(n)\n",
        "  for j in range(n - 1):\n",
        "     for i in range(j + 1,n):\n",
        "        L[i,j] = U[i,j] / U[j,j]\n",
        "        U[i,j:n] = U[i,j:n] - L [i,j] * U[j,j:n]\n",
        "\n",
        "  return (L,U)\n",
        "\n",
        "\n",
        "def func2(A):\n",
        "  n = A.shape[0]\n",
        "  U = A.copy()\n",
        "  L = np.eye(n)\n",
        "  for j in range(n - 1):\n",
        "    v = min(n,j + p + 1)\n",
        "    for i in range(j + 1,v):\n",
        "      L[i,j] = U[i,j] / U[j,j]\n",
        "      U[i,j: v] = U[i,j: v] - L[i,j] * U[j,j: v]\n",
        "\n",
        "  return (L,U)"
      ],
      "metadata": {
        "id": "C-S3WzoYI-J4"
      },
      "execution_count": null,
      "outputs": []
    },
    {
      "cell_type": "markdown",
      "source": [
        "Usando parametros como $n = 200$ e $P = 2$, iremos testar ambos as funções e determinar qual a principal diferença entre os códigos.\n",
        "\n",
        "\n"
      ],
      "metadata": {
        "id": "t0vXLX3rKhVt"
      }
    },
    {
      "cell_type": "markdown",
      "source": [
        "#####Caso de teste func 1"
      ],
      "metadata": {
        "id": "77NwkhzUMGgF"
      }
    },
    {
      "cell_type": "code",
      "source": [
        "n = 2000\n",
        "p = 2\n",
        "\n",
        "A = np.zeros((n, n))\n",
        "for i in range(n):\n",
        "    for j in range(max(0, i - p), min(n, i + p + 1)):\n",
        "        A[i, j] = np.random.normal()\n",
        "\n",
        "start_time = time.time()\n",
        "(L, U) = func1(A)\n",
        "end_time = time.time()\n",
        "print(end_time - start_time)"
      ],
      "metadata": {
        "colab": {
          "base_uri": "https://localhost:8080/"
        },
        "id": "JmBt4rC2KkIl",
        "outputId": "5a690d9d-b036-495b-a38b-4d9ec7c3c5cd"
      },
      "execution_count": null,
      "outputs": [
        {
          "output_type": "stream",
          "name": "stdout",
          "text": [
            "15.272077322006226\n"
          ]
        }
      ]
    },
    {
      "cell_type": "markdown",
      "source": [
        "#####Caso de teste func 2"
      ],
      "metadata": {
        "id": "HqSeKIFbK3Eh"
      }
    },
    {
      "cell_type": "code",
      "source": [
        "n = 2000\n",
        "p = 2\n",
        "\n",
        "A = np.zeros((n, n))\n",
        "for i in range(n):\n",
        "    for j in range(max(0, i - p), min(n, i + p + 1)):\n",
        "        A[i, j] = np.random.normal()\n",
        "\n",
        "start_time = time.time()\n",
        "(L, U) = func2(A)\n",
        "\n",
        "end_time = time.time()\n",
        "print(end_time - start_time)"
      ],
      "metadata": {
        "colab": {
          "base_uri": "https://localhost:8080/"
        },
        "id": "XUU15xEeK2jg",
        "outputId": "d785431c-ecd3-4667-fad9-b7d159281700"
      },
      "execution_count": null,
      "outputs": [
        {
          "output_type": "stream",
          "name": "stdout",
          "text": [
            "0.07822251319885254\n"
          ]
        }
      ]
    },
    {
      "cell_type": "markdown",
      "source": [
        "##### Conclusão\n",
        "\n",
        "A adição do parâmetro \"p\" na função \"func2\" traz vantagens significativas ao código. Ao limitar o número de linhas consideradas em cada coluna durante o processo de decomposição LU, o parâmetro \"p\" permite uma abordagem mais específica e adaptável para diferentes tipos de matrizes. Isso é especialmente útil em casos onde a matriz possui estruturas especiais, como esparsidade ou padrões específicos de valores, onde o desempenho de algoritmos pode ser significativamente otimizado ao considerar apenas uma vizinhança local de cada elemento. Podemos observar essa melhora principalmente no tempo de processamento dado no exemplo acima, processando a mesma matriz, a \"func 1\" teve um gasto de $15$ segundos enquanto a \"func 2\" nem bateu a marca de $1$ segundo de processamento. Além disso, a flexibilidade oferecida pela inclusão do parâmetro \"p\" permite ajustar o desempenho da decomposição LU de acordo com os requisitos de precisão e eficiência do problema em questão."
      ],
      "metadata": {
        "id": "V1Ah1CVyMMHu"
      }
    },
    {
      "cell_type": "markdown",
      "source": [
        "# Questão 2"
      ],
      "metadata": {
        "id": "3ivReodH74Pu"
      }
    },
    {
      "cell_type": "code",
      "source": [
        "A = np.array([\n",
        "    [4, -2, 1, 0, 0, 0],\n",
        "    [-2, 7, -2, 1, 0, 0],\n",
        "    [1, -2, 7, -2, 1, 0],\n",
        "    [0, 1, -2, 7, -2, 1],\n",
        "    [0, 0, 1, -2, 7, -2],\n",
        "    [0, 0, 0, 1, -2, 4]\n",
        "])\n",
        "\n",
        "b = np.array([-1, -2, 1, 1, -2, -1]).T"
      ],
      "metadata": {
        "id": "ptAmhovQ70vD"
      },
      "execution_count": null,
      "outputs": []
    },
    {
      "cell_type": "markdown",
      "source": [
        "### Item A:"
      ],
      "metadata": {
        "id": "c25zLmyi93_3"
      }
    },
    {
      "cell_type": "markdown",
      "source": [
        "### Gauss-Jacobi\n",
        "Para obter $Cⱼ$ e $gⱼ$, precisamos decompor nossa nosso sistema $Ax = b$ de forma que:   \n",
        "$$x^{k+1} = Cx^{k} + g$$\n",
        "Inicialmente, temos que verificar se: $$aᵢᵢ \\neq0, ∀i=1,...,n$$\n",
        "Feita a verificação, podemos obter $x^{k+1}$ isolando $xₙ$ de cada linha da equação do sistema. Dessa forma, teremos um sistema da seguinte forma:\n",
        "$$  x_{1}^{k+1} = (b_{1}-[a_{12}x_{2}^{k} + ... + a_{1n}x_{n}^{k}])/a_{11} $$\n",
        "$$\\vdots$$\n",
        "$$ x_{n}^{k+1} = (b_{n}-[a_{n1}x_{2}^{k} + ... + a_{nn-1}x_{n-1}^{k}])/a_{nn} $$\n",
        "\n",
        "Computacionalmente, podemos obter a equação acima, de maneira eficiente, utilizando a matriz diagonal $D$ de $A$.\n",
        "$$(A - D + D)x = b$$\n",
        "$$(A - D)x^{k} + Dx^{k+1} = b$$\n",
        "$$Dx^{k+1} = (D - A)x^{k} + b$$\n",
        "$$x^{k+1} = (I - D^{-1}A)x^{k} + D^{-1}b$$\n",
        "$$x^{k+1} = Cx^{k} + g$$\n",
        "\n",
        "Agora, com a matriz $D$ calculada, vamos resolver\n",
        "$$ I - D^{-1}A = C$$\n",
        "$$ D^{-1}b = g$$"
      ],
      "metadata": {
        "id": "mU3uRgnBeFrL"
      }
    },
    {
      "cell_type": "code",
      "source": [
        "def getCJacobi(A, D):\n",
        "    n = np.shape(A)[0]\n",
        "    return np.identity(n) - np.linalg.inv(D) @ A"
      ],
      "metadata": {
        "id": "U4agE6d111Y_"
      },
      "execution_count": null,
      "outputs": []
    },
    {
      "cell_type": "code",
      "source": [
        "def getGJacobi(D, b):\n",
        "    return np.linalg.inv(D) @ b"
      ],
      "metadata": {
        "id": "8BCCeF182IE3"
      },
      "execution_count": null,
      "outputs": []
    },
    {
      "cell_type": "code",
      "source": [
        "n = np.shape(A)[0]\n",
        "D = np.diag(np.diag(A))\n",
        "\n",
        "print(f'C:\\n {getCJacobi(A, D)} \\n\\n g:\\n {getGJacobi(D, b)}')"
      ],
      "metadata": {
        "colab": {
          "base_uri": "https://localhost:8080/"
        },
        "id": "8RQggY331TD1",
        "outputId": "b8893609-b29a-4971-c18f-c895d75cdf45"
      },
      "execution_count": null,
      "outputs": [
        {
          "output_type": "stream",
          "name": "stdout",
          "text": [
            "C:\n",
            " [[ 0.          0.5        -0.25        0.          0.          0.        ]\n",
            " [ 0.28571429  0.          0.28571429 -0.14285714  0.          0.        ]\n",
            " [-0.14285714  0.28571429  0.          0.28571429 -0.14285714  0.        ]\n",
            " [ 0.         -0.14285714  0.28571429  0.          0.28571429 -0.14285714]\n",
            " [ 0.          0.         -0.14285714  0.28571429  0.          0.28571429]\n",
            " [ 0.          0.          0.         -0.25        0.5         0.        ]] \n",
            "\n",
            " g:\n",
            " [-0.25       -0.28571429  0.14285714  0.14285714 -0.28571429 -0.25      ]\n"
          ]
        }
      ]
    },
    {
      "cell_type": "markdown",
      "source": [
        "### Gauss-Seidl\n",
        "Para calcularmos $Cₛ$ e $gₛ$ precisamos decompor nosso sistema:   \n",
        "$$Ax = b$$ de forma que:\n",
        "$$x^{k+1} = Cx^{k} + g$$\n",
        "Após fazer a verificação dos valores da diagonal principal, que tem quer ser diferentes de 0, obteremos aquele mesmo sistema mostrado acima, com o vetor $x^{k+1}$ isolado.  \n",
        "Para isso, vamos decompor A = L + R, em que L é a matriz triagular inferior de A, e R é a matriz triangular superior de A sem a diagonal.   \n",
        "$$(L + R)x = b$$\n",
        "$$Lx^{k+1} + Rx^{k} = b$$\n",
        "$$x^{k+1} = (-L^{-1}R)x^{k} + L^{-1}b$$\n",
        "$$x^{k+1} = Cx^{k} + g$$\n",
        "\n",
        "Para realizar essa tarefa, em tremos de código, podemos utilizar as funções triu e tril do numpy em $A$. Dessa forma, obteremos as matrizes L e R que precisamos para calcular $Cₛ$ e $gₛ$"
      ],
      "metadata": {
        "id": "EdkAhd0jHch8"
      }
    },
    {
      "cell_type": "markdown",
      "source": [
        "Agora, como temos as matrizes L e R, podemos calcular tanto Cₛ quanto gₛ. Para isso, resolveremos as seguintes equações:   \n",
        "$$\n",
        "Cₛ = -L^{-1} R\n",
        "$$\n",
        "$$\n",
        "gₛ = L^{-1} b\n",
        "$$"
      ],
      "metadata": {
        "id": "1xPUWebXNAME"
      }
    },
    {
      "cell_type": "code",
      "source": [
        "def getCSeidl(L, R):\n",
        "    return -np.linalg.inv(L) @ R\n",
        "\n",
        "def getGSeidl(L, b):\n",
        "    return np.linalg.inv(L) @ b"
      ],
      "metadata": {
        "id": "dfIifBoKMvU1"
      },
      "execution_count": null,
      "outputs": []
    },
    {
      "cell_type": "code",
      "source": [
        "L = np.tril(A)\n",
        "R = np.triu(A, 1)\n",
        "\n",
        "print(f'C:\\n {getCSeidl(L, R)} \\n\\n g:\\n {getGSeidl(L, b)}')"
      ],
      "metadata": {
        "colab": {
          "base_uri": "https://localhost:8080/"
        },
        "id": "lF2PJL-yPLGY",
        "outputId": "533d3c6e-94ca-4284-d0b4-e6e380961f86"
      },
      "execution_count": null,
      "outputs": [
        {
          "output_type": "stream",
          "name": "stdout",
          "text": [
            "C:\n",
            " [[ 0.          0.5        -0.25        0.          0.          0.        ]\n",
            " [ 0.          0.14285714  0.21428571 -0.14285714  0.          0.        ]\n",
            " [ 0.         -0.03061224  0.09693878  0.24489796 -0.14285714  0.        ]\n",
            " [ 0.         -0.02915452 -0.00291545  0.09037901  0.24489796 -0.14285714]\n",
            " [ 0.         -0.00395668 -0.01468138 -0.00916285  0.09037901  0.24489796]\n",
            " [ 0.          0.00531029 -0.00661183 -0.02717618 -0.01603499  0.15816327]] \n",
            "\n",
            " g:\n",
            " [-0.25       -0.35714286  0.07653061  0.21574344 -0.23500625 -0.42143898]\n"
          ]
        }
      ]
    },
    {
      "cell_type": "markdown",
      "source": [
        "### Item B:"
      ],
      "metadata": {
        "id": "aRiH7xVO8Qhg"
      }
    },
    {
      "cell_type": "markdown",
      "source": [
        "### Gauss-Jacobi\n",
        "\n",
        "Para verificar se os métodos citado convergem, precisamos fazer algumas verificações na matriz A.\n",
        "No caso do método de Gauss-Jacobi, a convergência é verificada utilizando o conceito de diagonal dominante, ou seja, temos que verificar se o elemento da diagonal dominante, em módulo, é maior que a soma, em módulo, dos elementos da linha. É possível rearranjar as linhas da matriz $A$ e do vetores $x$ e $b$ para tentar fazer com que o sistema atenda ao critério.\n",
        "$$\n",
        "|a_{ii}| > \\sum_{j{\\neq}i}^{∞}|a_{ij}|\n",
        "$$"
      ],
      "metadata": {
        "id": "ta8fTQOJ99Hh"
      }
    },
    {
      "cell_type": "code",
      "source": [
        "def verificaJacobi(A):\n",
        "    n = np.shape(A)[0]\n",
        "\n",
        "    for i in range(n):\n",
        "        soma = 0\n",
        "\n",
        "        aii = np.abs(A[i][i])\n",
        "        if aii == 0:\n",
        "            return False\n",
        "\n",
        "        for j in range(n):\n",
        "            # nao quero somar aii\n",
        "            if i == j:\n",
        "                continue\n",
        "\n",
        "            soma += np.abs(A[i][j])\n",
        "\n",
        "        # Soma dos elementos que nao fazem parte da diagonal principal é maior que aii\n",
        "        if soma > aii:\n",
        "            return False\n",
        "\n",
        "    return True"
      ],
      "metadata": {
        "id": "3PXRP9NQh0EK"
      },
      "execution_count": null,
      "outputs": []
    },
    {
      "cell_type": "code",
      "source": [
        "if verificaJacobi(A):\n",
        "    print(f'É possível resolver o sistema por gauss-jacobi')\n",
        "else:\n",
        "    print(f'Não é possível resolver o sistema por gauss-jacobi')\n"
      ],
      "metadata": {
        "colab": {
          "base_uri": "https://localhost:8080/"
        },
        "id": "IRhYC-Pci7cx",
        "outputId": "a4f23131-2fcb-4170-ba72-0d20384fdb8e"
      },
      "execution_count": null,
      "outputs": [
        {
          "output_type": "stream",
          "name": "stdout",
          "text": [
            "É possível resolver o sistema por gauss-jacobi\n"
          ]
        }
      ]
    },
    {
      "cell_type": "markdown",
      "source": [
        "### Gauss-Seidl\n",
        "\n",
        "No método de Gauss-Seidl, podemos usar o método da diagonal dominante também, porém, o critério de Sassenfield é mais indicado, pois o critério da matriz dominante é um subcaso do critério de Sassenfield, ou seja, matrizes que não convergem com o método da diagonal dominante podem convergir com o critério de Sassenfield, ao utilizar o método de Gauss-Seidl.   \n",
        "Nesse caso, temos que calcular os n $β$ da nossa matriz, e verificar se o maior $β$ é menor que 1, ou analogamente, verificar se todos os $β$ sao menores que 1.   \n",
        "A equação do cálculo do $β$ está descrita abaixo.\n",
        "$$\n",
        "\\betaᵢ = (\\frac{1}{|aᵢᵢ|}) ( \\sum_{j=1}^{i-1}|aᵢⱼ|\\betaⱼ + \\sum_{j=i+1}^{n}|aᵢⱼ|) < 1, ∀i = 1, ..., n\n",
        "$$"
      ],
      "metadata": {
        "id": "EMx5ilVihxjW"
      }
    },
    {
      "cell_type": "code",
      "source": [
        "def verificaSeidl(A):\n",
        "    n = np.shape(A)[0]\n",
        "    betas = np.array([0 for _ in range(n)])\n",
        "\n",
        "    for i in range(n):\n",
        "        num = np.sum(np.abs(A[i, :i]) * betas[:i]) + np.sum(np.abs(A[i, i+1:]))\n",
        "\n",
        "        den = np.abs(A[i][i])\n",
        "        if den == 0:\n",
        "            return False\n",
        "\n",
        "        betas[i] = num / den\n",
        "\n",
        "    return max(betas) < 1"
      ],
      "metadata": {
        "id": "ViP8DJMRmngA"
      },
      "execution_count": null,
      "outputs": []
    },
    {
      "cell_type": "code",
      "source": [
        "if verificaSeidl(A):\n",
        "    print(f'É possível resolver o sistema usando o método de gauss-seidl')\n",
        "else:\n",
        "    print(f'Não é possível resolver o sistema usando o método de gauss-seidl')"
      ],
      "metadata": {
        "colab": {
          "base_uri": "https://localhost:8080/"
        },
        "id": "zvsEB_u9nYUS",
        "outputId": "5b09dc81-c878-443b-fde1-d337fb64aed1"
      },
      "execution_count": null,
      "outputs": [
        {
          "output_type": "stream",
          "name": "stdout",
          "text": [
            "É possível resolver o sistema usando o método de gauss-seidl\n"
          ]
        }
      ]
    },
    {
      "cell_type": "markdown",
      "source": [
        "### Item C:"
      ],
      "metadata": {
        "id": "6E8fB5ibob1y"
      }
    },
    {
      "cell_type": "markdown",
      "source": [
        "### Metódo de Gauss-Jacobi\n",
        "\n",
        "Como foi mostrado no item A, fazemos a decomposição da matriz $A$ e obtemos a seguinte equação:\n",
        "$$(A - D + D)x = b$$\n",
        "$$(A - D)x^{k} + Dx^{k+1} = b$$\n",
        "$$Dx^{k+1} = (D - A)x^{k} + b$$\n",
        "$$x^{k+1} = (I - D^{-1}A)x^{k} + D^{-1}b$$\n",
        "Dessa forma, vamos obter a resposta do nosso sistema iterando, até o critério de parada, a última equação:\n",
        "$$x^{k+1} = (I - D^{-1}A)x^{k} + D^{-1}b$$\n"
      ],
      "metadata": {
        "id": "DmkI7nUuojb9"
      }
    },
    {
      "cell_type": "code",
      "source": [
        "def gaussJacobi(A, b, x0, erro):\n",
        "    if verificaJacobi(A) == False:\n",
        "        return x0, [], []\n",
        "\n",
        "    n = np.shape(A)[0]\n",
        "    D = np.diag(np.diag(A))\n",
        "\n",
        "    C = getCJacobi(A, D)\n",
        "    g = getGJacobi(D, b)\n",
        "\n",
        "    iteracoes = np.array([])\n",
        "    erros = np.array([])\n",
        "    k = 0\n",
        "\n",
        "    while True:\n",
        "        x = C.dot(x0) + g\n",
        "\n",
        "        erro_atual = np.linalg.norm(x - x0)\n",
        "        erros = np.append(erros, erro_atual)\n",
        "\n",
        "        k += 1\n",
        "        iteracoes = np.append(iteracoes, k)\n",
        "\n",
        "        x0 = x\n",
        "        if erro_atual < erro:\n",
        "            return x0, iteracoes, erros\n",
        "\n",
        "    return x0, iteracoes, erros"
      ],
      "metadata": {
        "id": "HzNP2LXRqsrt"
      },
      "execution_count": null,
      "outputs": []
    },
    {
      "cell_type": "code",
      "source": [
        "x, iteracoes, erros = gaussJacobi(A, b, np.array([1, 0, 0, 0, 0, 0]), 1e-8)\n",
        "print(f'A solução do sistema é {x} e conseguimos com {max(iteracoes)} iterações')"
      ],
      "metadata": {
        "colab": {
          "base_uri": "https://localhost:8080/"
        },
        "id": "YmaThVWDtKpu",
        "outputId": "cd3c70fc-e199-49c3-c92d-5ae89da775a9"
      },
      "execution_count": null,
      "outputs": [
        {
          "output_type": "stream",
          "name": "stdout",
          "text": [
            "A solução do sistema é [-0.50442478 -0.39823009  0.22123894  0.22123894 -0.39823009 -0.50442478] e conseguimos com 73.0 iterações\n"
          ]
        }
      ]
    },
    {
      "cell_type": "code",
      "source": [
        "fig, ax = plt.subplots()\n",
        "\n",
        "ax.set_title(\"Erros x Iteracoes\")\n",
        "ax.set_xlabel(\"Iteracoes\")\n",
        "ax.set_ylabel(\"Erros\")\n",
        "ax.plot(iteracoes, erros, color=\"green\", marker=\"o\")\n",
        "ax.set_xlim([0, 15])\n",
        "plt.show()"
      ],
      "metadata": {
        "colab": {
          "base_uri": "https://localhost:8080/",
          "height": 472
        },
        "id": "MET61kX3bz7v",
        "outputId": "157aee84-9a89-4ec1-e031-4bba599d12cc"
      },
      "execution_count": null,
      "outputs": [
        {
          "output_type": "display_data",
          "data": {
            "text/plain": [
              "<Figure size 640x480 with 1 Axes>"
            ],
            "image/png": "[encoded data removed]"
          },
          "metadata": {}
        }
      ]
    },
    {
      "cell_type": "markdown",
      "source": [
        "### Metódo de Gauss-Seidl\n",
        "Como é possível notar, os dois métodos se assemelham muito, pelo menos no início dos cálculos a serem realizados, até a parte da decomposição de $A$, porém, o diferencial do método de Gauss-Seidl em relação ao método de Gauss-Jacobi, é a sua eficiência e o seu critério de convergência(esse será discutido nos próximos items).   \n",
        "No método de Gauss-Seidl, podemos utilizar os valores atualizados de $x_{i}^{k+1}$ para $i < j$, no cálculo de $x_{j}^{k+1}$, ou seja, estamos utilizando, o quanto antes, os valores de $x$ que mais se aproximam da solução do nosso sistema ao longo das iterações.   \n",
        "Dessa forma, precisamos de menos iterações para conseguirmos atingir nosso critério de parada, mesmo que os dois métodos possuam a mesma complexidade algorítimica após os cálculos de $C$ e $g$.   \n"
      ],
      "metadata": {
        "id": "kmi7q_fOtwbm"
      }
    },
    {
      "cell_type": "code",
      "source": [
        "def gaussSeidl(A, b, x0, erro):\n",
        "    if verificaSeidl(A) == False:\n",
        "        return x0\n",
        "\n",
        "    n = np.shape(A)[0]\n",
        "\n",
        "    L = np.tril(A)\n",
        "    R = np.triu(A, 1)\n",
        "\n",
        "    C = getCSeidl(L,R)\n",
        "    g = getGSeidl(L, b)\n",
        "    x = np.array([0 for _ in range(n)])\n",
        "\n",
        "    erros = np.array([])\n",
        "    iteracoes = np.array([])\n",
        "    k = 0\n",
        "\n",
        "    while True:\n",
        "        x = C @ x0 + g\n",
        "\n",
        "        erro_atual = np.linalg.norm(x - x0)\n",
        "        erros = np.append(erros,erro_atual)\n",
        "\n",
        "        k += 1\n",
        "        iteracoes = np.append(iteracoes, k)\n",
        "\n",
        "        x0 = x\n",
        "\n",
        "        if erro_atual < erro:\n",
        "            return x0, iteracoes, erros\n",
        "\n",
        "    return x0, iteracoes, erros"
      ],
      "metadata": {
        "id": "GHlsHDj2t1bT"
      },
      "execution_count": null,
      "outputs": []
    },
    {
      "cell_type": "code",
      "source": [
        "x, iteracoes, erros = gaussSeidl(A, b, np.array([1, 0, 0, 0, 0, 0]), 1e-8)\n",
        "print(f'A solução do sistema é {x} e conseguimos com {max(iteracoes)} iterações')"
      ],
      "metadata": {
        "colab": {
          "base_uri": "https://localhost:8080/"
        },
        "id": "lrS88-pyvSpd",
        "outputId": "ddabe53d-710d-454e-ade0-624ff7476456"
      },
      "execution_count": null,
      "outputs": [
        {
          "output_type": "stream",
          "name": "stdout",
          "text": [
            "A solução do sistema é [-0.50442478 -0.39823009  0.22123894  0.22123894 -0.39823009 -0.50442478] e conseguimos com 15.0 iterações\n"
          ]
        }
      ]
    },
    {
      "cell_type": "code",
      "source": [
        "fig, ax = plt.subplots()\n",
        "\n",
        "ax.set_title(\"Erros x Iteracoes\")\n",
        "ax.set_xlabel(\"Iteracoes\")\n",
        "ax.set_ylabel(\"Erros\")\n",
        "ax.plot(iteracoes, erros, color=\"red\", marker=\"o\")\n",
        "ax.set_ylim(bottom=0, top=max(erros)*0.5)\n",
        "plt.show()"
      ],
      "metadata": {
        "colab": {
          "base_uri": "https://localhost:8080/",
          "height": 472
        },
        "id": "i0zQRtuxYy7z",
        "outputId": "6c7e939c-2e40-4d12-c951-0c6640c02cc3"
      },
      "execution_count": null,
      "outputs": [
        {
          "output_type": "display_data",
          "data": {
            "text/plain": [
              "<Figure size 640x480 with 1 Axes>"
            ],
            "image/png": "[encoded data removed]"
          },
          "metadata": {}
        }
      ]
    },
    {
      "cell_type": "markdown",
      "source": [
        "Agora, analisando os gráficos, é possível observar uma nítida diferença na \"velocidade\" da convergência dos dois métodos. Enquanto o método de Gauss-Seidl precisa de, aproximadamente, 5 iterações para chegar em um erro muito próximo de zero, o método de Gauss-Jacobi precisa de mais de 15 iterações"
      ],
      "metadata": {
        "id": "IdbLToiAqes5"
      }
    },
    {
      "cell_type": "markdown",
      "source": [
        "#Questão 3"
      ],
      "metadata": {
        "id": "PKWS5MIlJYRM"
      }
    },
    {
      "cell_type": "markdown",
      "source": [
        "###Item A"
      ],
      "metadata": {
        "id": "2F-Wl3LcJdZK"
      }
    },
    {
      "cell_type": "markdown",
      "source": [
        "Para encontrar a solução, primeiramente, temos que igualar $p(x)$ e $q(x)$, pois queremos encontrar os pontos nos quais as duas funções possuem os mesmos valores no eixo y. Chamaremos essa função resultante de $f$.\n",
        "$$ \\begin{cases} q(x) = -x^{2}+5x+0.75 \\\\ p(x) = -x^{4}+7.7x^{3}-18x^{2}+13.6x \\end{cases} $$\n",
        "\n",
        "$$ f(x) = p(x) - q(x)$$\n",
        "$$ f(x) = -x^{4}+7.7x^{3}-18x^{2}+13.6x +x^{2}-5x-0.75$$\n",
        "$$ f(x) = -x^{4}+7.7x^{3}-17x^{2}+8.6x -0.75 $$\n",
        "Após isso, teremos nossa $f:\t\\mathbb{R} → \t\\mathbb{R}$ e poderemos utilizar o método da bisseção para encontrar, iterativamente, as raízes de $f$, que significa encontrar os pontos de inserseção entre $p(x)$ e $q(x)$.   \n",
        "Em relação ao método da bisseção, optamos por utilizar o erro absoluto, devido ao baixo número de iterações, não achamos necessário utilizar um cirtério de parada mais robusto e que entregue maior precisão.   \n",
        "Para fazer o \"chute\" inicial do intervalo, analisamos tanto o gráfico fornecido pelo trabalho, quanto o gráfico de $f(x)$, e, a partir dessas informações, conseguimos inferir que o intervalo desejado está ao redor de $x=3$, então, achamos oportuno utilizar $[3, 3.3]$"
      ],
      "metadata": {
        "id": "zhIhP6K44P5L"
      }
    },
    {
      "cell_type": "code",
      "source": [
        "def bissecao(func, a, b, tol):\n",
        "    x = (a + b) / 2\n",
        "    erro = np.inf\n",
        "    k = 0\n",
        "    kmax = 5\n",
        "\n",
        "    while erro > tol and k < kmax:\n",
        "        k = k + 1\n",
        "\n",
        "        if func(a) * func(x) < 0:\n",
        "            b = x\n",
        "        else:\n",
        "            a = x\n",
        "\n",
        "        x0 = x\n",
        "        x = (a + b) / 2\n",
        "\n",
        "        erro = abs(x-x0)\n",
        "\n",
        "    return x, k"
      ],
      "metadata": {
        "id": "PSJ6Qsxb9sia"
      },
      "execution_count": null,
      "outputs": []
    },
    {
      "cell_type": "code",
      "source": [
        "f = lambda x: -x**4 + 7.7*(x**3) - 17*(x**2) + 8.6*x - 0.75\n",
        "p = lambda x: -x**4 + 7.7*x**3 - 18*x**2 + 13.6*x\n",
        "\n",
        "a = 3\n",
        "b = 3.3\n",
        "tol = 0.001\n",
        "\n",
        "raiz, iteracoes = bissecao(f, a, b, tol)\n",
        "\n",
        "print(\"A raiz é \", raiz , \"com x iterações\", iteracoes, \"e a altura do impacto é de\", p(raiz))"
      ],
      "metadata": {
        "id": "Rij73ny4n2pN",
        "colab": {
          "base_uri": "https://localhost:8080/"
        },
        "outputId": "32f241c7-6d21-4ece-f0d4-8beefe0e9e88"
      },
      "execution_count": null,
      "outputs": [
        {
          "output_type": "stream",
          "name": "stdout",
          "text": [
            "A raiz é  3.1734375000000004 com x iterações 5 e a altura do impacto é de 6.549350357812649\n"
          ]
        }
      ]
    },
    {
      "cell_type": "code",
      "source": [
        "fig, ax = plt.subplots()\n",
        "\n",
        "ax.set_title(\"\")\n",
        "ax.set_xlabel(\"x\")\n",
        "ax.set_ylabel(\"f(x)\")\n",
        "\n",
        "xGrafico = np.linspace(-2, 5, 100)\n",
        "fGrafico = f(xGrafico)\n",
        "\n",
        "ax.plot(xGrafico, fGrafico, color=\"blue\")\n",
        "ax.set_ylim(bottom=-5, top=5)\n",
        "plt.axhline(0, color='red', linestyle='--')\n",
        "plt.show()"
      ],
      "metadata": {
        "colab": {
          "base_uri": "https://localhost:8080/",
          "height": 449
        },
        "id": "Fez5gCvl8gEX",
        "outputId": "7c8478aa-9d1e-469d-e425-ecf3670c8d8e"
      },
      "execution_count": null,
      "outputs": [
        {
          "output_type": "display_data",
          "data": {
            "text/plain": [
              "<Figure size 640x480 with 1 Axes>"
            ],
            "image/png": "[encoded data removed]"
          },
          "metadata": {}
        }
      ]
    },
    {
      "cell_type": "markdown",
      "source": [
        "###Item B\n"
      ],
      "metadata": {
        "id": "NZPBTBdOstfz"
      }
    },
    {
      "cell_type": "markdown",
      "source": [
        "Para resolver o problema utilizando as ferramentas pedidas, temos que, primeiramente, fazer algumas adpatações em nossas funções, pois o método de Newton para sistemas, utiliza funções de várias variáveis.\n",
        "$$ f1(x, y) = p(x) - y $$\n",
        "$$ f1(x, y) =  -x^4 + 7.7x^3 - 18x^2 + 13.6x - y$$\n",
        "$$ f2(x, y) = q(x) - y $$\n",
        "$$ f2(x, y) = -x^2 + 5x + 0.75 - y $$   \n",
        "$$ F(X) = (f1, f2)^{T}$$\n",
        "$$ X = (x, y)^{T} $$"
      ],
      "metadata": {
        "id": "ogjKULvqBInl"
      }
    },
    {
      "cell_type": "markdown",
      "source": [
        "Agora, precisamos calcular a matriz jacobiana de F.   \n",
        "Após obter a matriz jacobiana, temos o que precisamos para começar a resolver o nosso sistema.   \n",
        "Vamos obter $x_{k+1}$, através de $x_k$ linearizando $F(X) = \\vec{0}^{\\,}$, dessa forma, obtemos:   \n",
        "$$ \\vec{0}^{\\,} = F(X_k) + J(X_k)v_k$$, onde $J$ é a matriz jacobiana de F, e v é o vetor solução do sistema.  \n",
        "\\\n",
        "\\begin{bmatrix}\n",
        "\\frac{\\partial f_1}{\\partial x} & \\frac{\\partial f_1}{\\partial y} \\\\\n",
        "\\frac{\\partial f_2}{\\partial x} & \\frac{\\partial f_2}{\\partial y}\n",
        "\\end{bmatrix}\n",
        "\\\n",
        "\\\n",
        "\\begin{bmatrix} v_1 \\\\ v_2 \\end{bmatrix}\n",
        "\\\n",
        "O processo iterativo ocorre reolvendo:\n",
        "$$J(X_k)v_k = F(X_k)$$\n",
        "e depois atualizando o valor de $x_{k+1}$:\n",
        "$$x_{k+1} = x_{k} - v_k$$\n",
        "Em termos de código, podemos calcular $v_k$ resolvendo o sistema:\n",
        "$$\n",
        "v_k = J(X_k) F(X_k)\n",
        "$$"
      ],
      "metadata": {
        "id": "fqTnLHLTEAUm"
      }
    },
    {
      "cell_type": "markdown",
      "source": [
        "Em relação ao critério de parada escolhido, optamos por utilizar a norma de $v_k$, pois para poder realizar a linearização, precisamos que $v_k$ seja suficientemente pequeno, então a norma consegue ser robusto suficiente para esse problema.   \n",
        "Em relação ao ponto escolhido, nossa decisão foi totalmente influenciada pelo gráfico mostrado no Item C, e optamos pelo par ordenado $(3, 6)$"
      ],
      "metadata": {
        "id": "4s-ZDL1mIYg5"
      }
    },
    {
      "cell_type": "markdown",
      "source": [
        "Agora, comparando os dois métodos, é possível perceber que o método de newton para sistemas é mais custoso computacionalmente, visto que é preciso revolver um sistema a cada iteração, enquanto no método da bisseção fazemos uma \"busca binária\" para encontrar a raíz que desejamos. Sobre a ordem de convergência, o método de newton para sistemas pode chegar a ser qudrático, mas depende das condições de chute incial, enquanto o método da bisseção converge com ordem linear. Outra diferença é o x0, enquanto no método de newton precisamos de um vetor, o método da bisseção requer um intervalo, o que leva o usuário a cometer menos erros. Analisando o custo de implementação, o método de newton é bem mais trabalhoso, pois é necessário calcular o jacobiano, o que, dependendo das funções, pode ser trabalhoso, contudo, é um método mais abrangente do que o método da bisseção, pois é possível transformar equações de 1 variável, em quações de 2 variáveis, e ter, dessa maneira, um método que resolve mais problemas."
      ],
      "metadata": {
        "id": "oy1TQThmdiGT"
      }
    },
    {
      "cell_type": "code",
      "source": [
        "def calculoJacobianoValor(jac, x, y):\n",
        "    n = np.shape(jac)[0]\n",
        "    matriz = np.array([[0. for x in range(n)]\n",
        "            for y in range(n)])\n",
        "\n",
        "    for i in range(n):\n",
        "        for j in range(n):\n",
        "            matriz[i][j] = jac[i][j](x, y)\n",
        "\n",
        "    return matriz"
      ],
      "metadata": {
        "id": "3AvI-sFn7ZzF"
      },
      "execution_count": null,
      "outputs": []
    },
    {
      "cell_type": "code",
      "source": [
        "def calculoFuncao(F, X):\n",
        "    n = np.shape(F)[0]\n",
        "    FValor = np.array([0. for _ in range(n)])\n",
        "\n",
        "    for i in range(n):\n",
        "        FValor[i] = F[i](*X)\n",
        "\n",
        "    return FValor"
      ],
      "metadata": {
        "id": "WMFFk7ETA8Cb"
      },
      "execution_count": null,
      "outputs": []
    },
    {
      "cell_type": "code",
      "source": [
        "def newtonSis(F, jac, X, tol):\n",
        "    k = 0\n",
        "\n",
        "    while k < 5:\n",
        "        v = np.linalg.solve(calculoJacobianoValor(jac, X[0], X[1]), calculoFuncao(F, X))\n",
        "        X = X - v\n",
        "\n",
        "        if np.linalg.norm(v) < tol:\n",
        "            return X, k\n",
        "\n",
        "        k += 1\n",
        "\n",
        "    return X, k"
      ],
      "metadata": {
        "id": "pbfKKMh9sxvY"
      },
      "execution_count": null,
      "outputs": []
    },
    {
      "cell_type": "code",
      "source": [
        "f1 = lambda x, y: -x**4 + 7.7*x**3 - 18*x**2 + 13.6*x - y\n",
        "df1x = lambda x, y: -4*x**3 + 23.1*x**2 - 36*x + 13.6\n",
        "df1y = lambda x, y: -1\n",
        "\n",
        "f2 = lambda x, y: -x**2 + 5*x + 0.75 - y\n",
        "df2x = lambda x, y: -2*x + 5\n",
        "df2y = lambda x, y: -1\n",
        "\n",
        "F = np.array([f1, f2])\n",
        "jac = np.array([\n",
        "    [df1x, df1y],\n",
        "    [df2x, df2y]\n",
        "])\n",
        "\n",
        "X, k = newtonSis(F, jac, [3., 6.], 1e-3)\n",
        "print(f'O ponto de intersecção é {X} e foi encontrado com {k} iteracoes')"
      ],
      "metadata": {
        "id": "HYp0Nmt_s3ML",
        "colab": {
          "base_uri": "https://localhost:8080/"
        },
        "outputId": "6ba79264-f70c-4c13-c01e-4f0d16aa2090"
      },
      "execution_count": null,
      "outputs": [
        {
          "output_type": "stream",
          "name": "stdout",
          "text": [
            "O ponto de intersecção é [3.1729163  6.54718366] e foi encontrado com 2 iteracoes\n"
          ]
        }
      ]
    }
  ]
}